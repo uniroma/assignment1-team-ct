{
  "nbformat": 4,
  "nbformat_minor": 0,
  "metadata": {
    "colab": {
      "provenance": []
    },
    "kernelspec": {
      "name": "python3",
      "display_name": "Python 3"
    },
    "language_info": {
      "name": "python"
    }
  },
  "cells": [
    {
      "cell_type": "markdown",
      "source": [
        "To apply Monte Carlo simulations combined with bootstrap methods to evaluate the quality of inference on 𝛽1 using serially correlated data, we can follow these steps:\n",
        "\n",
        "\n",
        "*   Simulate Data with AR(1) Errors:\n",
        "*   Calculate Bootstrap Standard Errors\n",
        "*   Construct a 95% Confidence Interval for 𝛽1\n",
        "*   Perform Monte Carlo Simulations for T=100 and T=500"
      ],
      "metadata": {
        "id": "DtFLDLpSZ87J"
      }
    },
    {
      "cell_type": "code",
      "execution_count": 1,
      "metadata": {
        "id": "B-MiK76_Z53P"
      },
      "outputs": [],
      "source": [
        "#Step 1: Simulate Data with AR(1) Errors\n",
        "import numpy as np\n",
        "\n",
        "def simulate_regression_with_ar1_errors(n, beta0, beta1, rho, sigma):\n",
        "    X = np.random.normal(size=n)\n",
        "    errors = np.zeros(n)\n",
        "    errors[0] = np.random.normal(scale=sigma)  # Initialize the first error term\n",
        "    for t in range(1, n):\n",
        "        errors[t] = rho * errors[t-1] + np.random.normal(scale=sigma)\n",
        "    y = beta0 + beta1 * X + errors\n",
        "    return X, y\n",
        "\n",
        "# Parameters for simulation\n",
        "n = 1000\n",
        "beta0 = 1\n",
        "beta1 = 0.5\n",
        "rho = 0.8\n",
        "sigma = 1\n",
        "\n",
        "# Simulate data\n",
        "X, y = simulate_regression_with_ar1_errors(n, beta0, beta1, rho, sigma)\n"
      ]
    },
    {
      "cell_type": "code",
      "source": [
        "#Step 2: Estimate Coefficients\n",
        "from statsmodels.regression.linear_model import OLS\n",
        "from statsmodels.tools.tools import add_constant\n",
        "\n",
        "# Estimate coefficients\n",
        "model = OLS(y, add_constant(X)).fit()\n",
        "beta_hat = model.params"
      ],
      "metadata": {
        "id": "7CXBjLw7aFKI"
      },
      "execution_count": 2,
      "outputs": []
    },
    {
      "cell_type": "code",
      "source": [
        "#Step 3: Bootstrap Standard Errors\n",
        "def bootstrap_standard_errors(X, y, beta_hat, num_resamples=1000):\n",
        "    n = len(y)\n",
        "    num_coeffs = beta_hat.shape[0]\n",
        "    beta_boot_se = np.zeros(num_coeffs)\n",
        "\n",
        "    for i in range(num_resamples):\n",
        "        resample_indices = np.random.choice(n, size=n, replace=True)\n",
        "        X_resample = X[resample_indices]\n",
        "        y_resample = y[resample_indices]\n",
        "        model = OLS(y_resample, add_constant(X_resample)).fit()\n",
        "        beta_boot_se += (model.params - beta_hat) ** 2\n",
        "\n",
        "    beta_boot_se = np.sqrt(beta_boot_se / num_resamples)\n",
        "    return beta_boot_se\n",
        "\n",
        "# Bootstrap standard errors\n",
        "beta_boot_se = bootstrap_standard_errors(X, y, beta_hat)"
      ],
      "metadata": {
        "id": "KwYndxUAaLLk"
      },
      "execution_count": 3,
      "outputs": []
    },
    {
      "cell_type": "code",
      "source": [
        "#calculate COnfidence Intervals\n",
        "from scipy.stats import norm\n",
        "\n",
        "# Calculate confidence intervals\n",
        "z_critical = norm.ppf(0.975)\n",
        "ci_lower = beta_hat[1] - z_critical * beta_boot_se[1]\n",
        "ci_upper = beta_hat[1] + z_critical * beta_boot_se[1]\n",
        "print(\"95% Confidence Interval for Beta 1:\", (ci_lower, ci_upper))\n"
      ],
      "metadata": {
        "colab": {
          "base_uri": "https://localhost:8080/"
        },
        "id": "Ivj0Z5k8aVdY",
        "outputId": "71c338e4-230a-40a8-937f-e2fe15e64e10"
      },
      "execution_count": 4,
      "outputs": [
        {
          "output_type": "stream",
          "name": "stdout",
          "text": [
            "95% Confidence Interval for Beta 1: (0.45513894959817913, 0.6548546246944505)\n"
          ]
        }
      ]
    },
    {
      "cell_type": "code",
      "source": [
        "#Step 5: Define Simulation Function for Monte Carlo Simulations\n",
        "def run_simulation(T, beta0, beta1, rho, sigma, z_critical):\n",
        "    X_sim, y_sim = simulate_regression_with_ar1_errors(T, beta0, beta1, rho, sigma)\n",
        "    model_sim = OLS(y_sim, add_constant(X_sim)).fit()\n",
        "    beta_hat_sim = model_sim.params\n",
        "    beta_boot_se_sim = bootstrap_standard_errors(X_sim, y_sim, beta_hat_sim)\n",
        "\n",
        "    ci_lower_sim = beta_hat_sim[1] - z_critical * beta_boot_se_sim[1]\n",
        "    ci_upper_sim = beta_hat_sim[1] + z_critical * beta_boot_se_sim[1]\n",
        "\n",
        "    return ci_lower_sim <= beta1 <= ci_upper_sim\n"
      ],
      "metadata": {
        "id": "Q8Vu6TdOaapJ"
      },
      "execution_count": 5,
      "outputs": []
    },
    {
      "cell_type": "code",
      "source": [
        "#Step 6: Perform Monte Carlo Simulations\n",
        "from joblib import Parallel, delayed\n",
        "\n",
        "# Monte Carlo simulations\n",
        "T_values = [100, 500]\n",
        "num_runs = 1000\n",
        "\n",
        "for T in T_values:\n",
        "    results = Parallel(n_jobs=-1)(\n",
        "        delayed(run_simulation)(T, beta0, beta1, rho, sigma, z_critical) for _ in range(num_runs)\n",
        "    )\n",
        "    coverage = sum(results) / num_runs\n",
        "    print(f\"Empirical Coverage for T={T}: {coverage}\")"
      ],
      "metadata": {
        "colab": {
          "base_uri": "https://localhost:8080/"
        },
        "id": "HeYjsKIFatX5",
        "outputId": "62408dd3-dc8c-4943-df0f-efae330a81dd"
      },
      "execution_count": 6,
      "outputs": [
        {
          "output_type": "stream",
          "name": "stdout",
          "text": [
            "Empirical Coverage for T=100: 0.941\n",
            "Empirical Coverage for T=500: 0.948\n"
          ]
        }
      ]
    }
  ]
}